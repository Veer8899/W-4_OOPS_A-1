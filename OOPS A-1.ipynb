{
 "cells": [
  {
   "cell_type": "markdown",
   "id": "940ceedd-d3cb-48a8-9fbf-943c1870ba8d",
   "metadata": {},
   "source": [
    "## Q1. Explain Class and Object with respect to Object-Oriented Programming. Give a suitable example."
   ]
  },
  {
   "cell_type": "markdown",
   "id": "d3fc75f6-68ac-40ad-987b-8c88b88c56b7",
   "metadata": {},
   "source": [
    "#### CLass-> A class is a blueprint or prototype from which objects are created.\n",
    "#### Object-> An object is a real world entity that has its own state and behavior. for example : chair, pen bike, car, etc."
   ]
  },
  {
   "cell_type": "code",
   "execution_count": 5,
   "id": "516a1940-9ad4-48a5-9a4f-66bdb2d118cb",
   "metadata": {},
   "outputs": [],
   "source": [
    "class Car():\n",
    "    \n",
    "    def __init__(self, name, speed, model):\n",
    "        self.name = name\n",
    "        self.speed = speed\n",
    "        self.model = model\n",
    "    \n",
    "    def return_my_car(self):\n",
    "        return self.name, self.speed, self.model"
   ]
  },
  {
   "cell_type": "code",
   "execution_count": 6,
   "id": "2f278048-2116-4f1c-83ac-1196e01e37c9",
   "metadata": {},
   "outputs": [],
   "source": [
    "my_car = Car(\"Audi\", 300, \"R8\")"
   ]
  },
  {
   "cell_type": "code",
   "execution_count": 8,
   "id": "aa50c7fc-91ad-46a3-8818-3ba27c308a9a",
   "metadata": {},
   "outputs": [
    {
     "data": {
      "text/plain": [
       "('Audi', 300, 'R8')"
      ]
     },
     "execution_count": 8,
     "metadata": {},
     "output_type": "execute_result"
    }
   ],
   "source": [
    "my_car.return_my_car()"
   ]
  },
  {
   "cell_type": "code",
   "execution_count": 9,
   "id": "2bb6670d-7776-4ff0-82ea-553165681e23",
   "metadata": {},
   "outputs": [
    {
     "data": {
      "text/plain": [
       "'R8'"
      ]
     },
     "execution_count": 9,
     "metadata": {},
     "output_type": "execute_result"
    }
   ],
   "source": [
    "my_car.model\n"
   ]
  },
  {
   "cell_type": "code",
   "execution_count": 10,
   "id": "3351eddd-4a3c-46ba-ae9e-e4c7aad82485",
   "metadata": {},
   "outputs": [
    {
     "data": {
      "text/plain": [
       "'Audi'"
      ]
     },
     "execution_count": 10,
     "metadata": {},
     "output_type": "execute_result"
    }
   ],
   "source": [
    "my_car.name\n"
   ]
  },
  {
   "cell_type": "code",
   "execution_count": 11,
   "id": "2db94b15-62f9-4edc-9d16-8a366c31707a",
   "metadata": {},
   "outputs": [
    {
     "data": {
      "text/plain": [
       "300"
      ]
     },
     "execution_count": 11,
     "metadata": {},
     "output_type": "execute_result"
    }
   ],
   "source": [
    "my_car.speed"
   ]
  },
  {
   "cell_type": "markdown",
   "id": "f7c7c20e-15d0-4886-aa32-6dc4dd6941db",
   "metadata": {},
   "source": [
    "## Q2. Name the four pillars of OOPs."
   ]
  },
  {
   "cell_type": "markdown",
   "id": "d73b9e56-70f1-4a1d-9acc-ca79f3b269ae",
   "metadata": {},
   "source": [
    "#### Inheritance: It means when child class inharite the property of the parent class. And it allow code reusability. example:                   father and son.\n",
    "#### Encapsulation: It is the process of binding the data and hiding the attributes of data and it's behavior in a single                         unit. for example: medicine Capsule.\n",
    "#### Polymorphism: If one task is performed in different ways, for example A Human can eat, walk, sleep, behave etc.\n",
    "#### Abstraction: It is the process of hiding the internal details and showing functionality. for example: Phone call, App                       Installation etc"
   ]
  },
  {
   "cell_type": "markdown",
   "id": "ced88ab6-eada-416b-9994-9405c896cbe1",
   "metadata": {},
   "source": [
    "## Q3. Explain why the __init__() function is used. Give a suitable example."
   ]
  },
  {
   "cell_type": "markdown",
   "id": "ce1df18d-8a69-4d3b-8625-a843e0351fba",
   "metadata": {},
   "source": [
    "#### __init__() -> It is know as constructor and special type of method that is automatically called when an object is created from a class."
   ]
  },
  {
   "cell_type": "code",
   "execution_count": 15,
   "id": "8e3ea3b7-24ff-43c9-86a4-38d3c43ab853",
   "metadata": {},
   "outputs": [],
   "source": [
    "class Person:\n",
    "    def __init__(self, name, age, gender):\n",
    "        self.name = name\n",
    "        self.age = age\n",
    "        self.gender = gender\n",
    "        \n",
    "    def person_details(self):\n",
    "        return self.name, self.age, self.gender"
   ]
  },
  {
   "cell_type": "code",
   "execution_count": 18,
   "id": "99b883ca-5ca5-46c0-adb1-a247e95ab029",
   "metadata": {},
   "outputs": [],
   "source": [
    "p1 = Person(\"ram\", 24, \"M\")"
   ]
  },
  {
   "cell_type": "code",
   "execution_count": 29,
   "id": "d3c59a57-bc8f-4955-94ce-e4e658321118",
   "metadata": {},
   "outputs": [],
   "source": [
    "p2 = Person(\"raj\", 24, \"M\")"
   ]
  },
  {
   "cell_type": "code",
   "execution_count": 22,
   "id": "d6527ee8-b3be-4809-a905-bd504ba3784f",
   "metadata": {},
   "outputs": [
    {
     "data": {
      "text/plain": [
       "('ram', 24, 'M')"
      ]
     },
     "execution_count": 22,
     "metadata": {},
     "output_type": "execute_result"
    }
   ],
   "source": [
    "p1.person_details()"
   ]
  },
  {
   "cell_type": "code",
   "execution_count": 30,
   "id": "d2aa6e28-5eb7-4cfc-b51e-7c6fbd67f303",
   "metadata": {},
   "outputs": [
    {
     "data": {
      "text/plain": [
       "('raj', 24, 'M')"
      ]
     },
     "execution_count": 30,
     "metadata": {},
     "output_type": "execute_result"
    }
   ],
   "source": [
    "p2.person_details()"
   ]
  },
  {
   "cell_type": "code",
   "execution_count": 24,
   "id": "2fc2aa3f-14aa-4a9d-88a9-7e19e3610cc7",
   "metadata": {},
   "outputs": [
    {
     "data": {
      "text/plain": [
       "'ram'"
      ]
     },
     "execution_count": 24,
     "metadata": {},
     "output_type": "execute_result"
    }
   ],
   "source": [
    "p1.name"
   ]
  },
  {
   "cell_type": "code",
   "execution_count": 25,
   "id": "07c2cb1e-75ca-4855-a519-3d42855770eb",
   "metadata": {},
   "outputs": [
    {
     "data": {
      "text/plain": [
       "24"
      ]
     },
     "execution_count": 25,
     "metadata": {},
     "output_type": "execute_result"
    }
   ],
   "source": [
    "p1.age"
   ]
  },
  {
   "cell_type": "code",
   "execution_count": 26,
   "id": "657fce41-60da-47b7-8d29-9a9b07e57445",
   "metadata": {},
   "outputs": [
    {
     "data": {
      "text/plain": [
       "'M'"
      ]
     },
     "execution_count": 26,
     "metadata": {},
     "output_type": "execute_result"
    }
   ],
   "source": [
    "p1.gender"
   ]
  },
  {
   "cell_type": "markdown",
   "id": "e8aa64c5-a82d-4d73-bc09-b4215a7f2217",
   "metadata": {},
   "source": [
    "## Q4. Why self is used in OOPs?"
   ]
  },
  {
   "cell_type": "markdown",
   "id": "82aa1bab-f9c6-41f0-9ec9-a50a33feaac8",
   "metadata": {},
   "source": [
    "#### self is a naming convenaion which is used as the first parameter of a method within a class. The use of self is important because it allows access to the instance variables and methods of the object. "
   ]
  },
  {
   "cell_type": "markdown",
   "id": "e783d8f2-812d-46c6-b880-677f2a97ad15",
   "metadata": {},
   "source": [
    "## Q5. What is inheritance? Give an example for each type of inheritance."
   ]
  },
  {
   "cell_type": "markdown",
   "id": "ce50a5d3-9362-45c6-bdd7-6dbe93cc64a7",
   "metadata": {},
   "source": [
    "### Inheritance: It means when child class inharite the property of the parent class. And it allow code reusability. example: father and son."
   ]
  },
  {
   "cell_type": "markdown",
   "id": "32eced62-6ae7-425c-9bcd-8019fcc1381b",
   "metadata": {},
   "source": [
    "#### Single Inheritance:"
   ]
  },
  {
   "cell_type": "code",
   "execution_count": 33,
   "id": "066befdb-7658-40cb-a9b6-ce7ceae9e709",
   "metadata": {},
   "outputs": [],
   "source": [
    "class Animal:\n",
    "    def eat(self):\n",
    "        return \"Animal is eating.\"\n",
    "      \n"
   ]
  },
  {
   "cell_type": "code",
   "execution_count": 34,
   "id": "8d6d016f-0e5c-4366-9c67-ea5b8a696881",
   "metadata": {},
   "outputs": [],
   "source": [
    "class Dog(Animal):\n",
    "    def bark(self):\n",
    "        return \"Dog is barking\""
   ]
  },
  {
   "cell_type": "code",
   "execution_count": 35,
   "id": "4c4d57d7-83a2-44e5-bd5f-44aabb3d3975",
   "metadata": {},
   "outputs": [],
   "source": [
    "dog = Dog()"
   ]
  },
  {
   "cell_type": "code",
   "execution_count": 36,
   "id": "664f6e6b-214a-41e7-b74b-48a4d2b16496",
   "metadata": {},
   "outputs": [
    {
     "data": {
      "text/plain": [
       "'Dog is barking'"
      ]
     },
     "execution_count": 36,
     "metadata": {},
     "output_type": "execute_result"
    }
   ],
   "source": [
    "dog.bark()"
   ]
  },
  {
   "cell_type": "code",
   "execution_count": 38,
   "id": "77d232ac-f155-46c7-bc1b-a4b4452ef481",
   "metadata": {},
   "outputs": [
    {
     "data": {
      "text/plain": [
       "'Animal is eating.'"
      ]
     },
     "execution_count": 38,
     "metadata": {},
     "output_type": "execute_result"
    }
   ],
   "source": [
    "dog.eat()"
   ]
  },
  {
   "cell_type": "markdown",
   "id": "566e33f4-b7d7-4078-8be0-b60d04ff0002",
   "metadata": {},
   "source": [
    "#### Multilevel Inheritance::"
   ]
  },
  {
   "cell_type": "code",
   "execution_count": 39,
   "id": "d16070d1-542b-4a6b-813e-5bbde13b5873",
   "metadata": {},
   "outputs": [],
   "source": [
    "class class1:\n",
    "    def meth1(self):\n",
    "        return \"This is my first method\""
   ]
  },
  {
   "cell_type": "code",
   "execution_count": 40,
   "id": "c3bf21f7-55a0-4337-80c3-c1160affdb38",
   "metadata": {},
   "outputs": [],
   "source": [
    "class class2(class1):\n",
    "    def meth2(self):\n",
    "        return \"This is my 2nd method\""
   ]
  },
  {
   "cell_type": "code",
   "execution_count": 41,
   "id": "be025f4d-5622-4233-8bc6-c16b3611d5d9",
   "metadata": {},
   "outputs": [],
   "source": [
    "class class3(class2):\n",
    "    pass"
   ]
  },
  {
   "cell_type": "code",
   "execution_count": 42,
   "id": "6a1a62fc-3c4a-4311-bf85-56a8e673198a",
   "metadata": {},
   "outputs": [],
   "source": [
    "test = class3()"
   ]
  },
  {
   "cell_type": "code",
   "execution_count": 44,
   "id": "bff39408-a24c-4071-b236-150d22f8a0aa",
   "metadata": {},
   "outputs": [
    {
     "data": {
      "text/plain": [
       "'This is my first method'"
      ]
     },
     "execution_count": 44,
     "metadata": {},
     "output_type": "execute_result"
    }
   ],
   "source": [
    "test.meth1()"
   ]
  },
  {
   "cell_type": "code",
   "execution_count": 45,
   "id": "b2d0ae6d-6df3-4323-ab49-1c53a16ff6f7",
   "metadata": {},
   "outputs": [
    {
     "data": {
      "text/plain": [
       "'This is my 2nd method'"
      ]
     },
     "execution_count": 45,
     "metadata": {},
     "output_type": "execute_result"
    }
   ],
   "source": [
    "test.meth2()"
   ]
  },
  {
   "cell_type": "markdown",
   "id": "beabec66-1e6a-465a-a825-ef1890335bbb",
   "metadata": {},
   "source": [
    "#### Multiple Inheritance:"
   ]
  },
  {
   "cell_type": "code",
   "execution_count": 46,
   "id": "3b076630-5406-4dbe-8048-ee7625f69929",
   "metadata": {},
   "outputs": [],
   "source": [
    "class class1:\n",
    "    def method1(self):\n",
    "        return \"call method 1\"\n",
    "    "
   ]
  },
  {
   "cell_type": "code",
   "execution_count": 47,
   "id": "15cd6b7f-6b00-4431-add0-adcbc06da3aa",
   "metadata": {},
   "outputs": [],
   "source": [
    "class class2:\n",
    "    def method2(self):\n",
    "        return \"call method 2\""
   ]
  },
  {
   "cell_type": "code",
   "execution_count": 48,
   "id": "79f4d241-5874-4564-bb71-5309be59247d",
   "metadata": {},
   "outputs": [],
   "source": [
    "class class3(class1, class2):\n",
    "    pass"
   ]
  },
  {
   "cell_type": "code",
   "execution_count": 50,
   "id": "0d7846b3-b330-4747-86a3-a1189dcfefc0",
   "metadata": {},
   "outputs": [],
   "source": [
    "obj_class3 = class3()"
   ]
  },
  {
   "cell_type": "code",
   "execution_count": 53,
   "id": "d8d9d2ce-9fa2-4a0c-8954-6af04fb31ddf",
   "metadata": {},
   "outputs": [
    {
     "data": {
      "text/plain": [
       "'call method 1'"
      ]
     },
     "execution_count": 53,
     "metadata": {},
     "output_type": "execute_result"
    }
   ],
   "source": [
    "obj_class3.method1()"
   ]
  },
  {
   "cell_type": "code",
   "execution_count": 54,
   "id": "b56a0163-9ca1-4457-beaf-fe90e74e9417",
   "metadata": {},
   "outputs": [
    {
     "data": {
      "text/plain": [
       "'call method 2'"
      ]
     },
     "execution_count": 54,
     "metadata": {},
     "output_type": "execute_result"
    }
   ],
   "source": [
    "obj_class3.method2()"
   ]
  },
  {
   "cell_type": "markdown",
   "id": "b8f13226-2321-474e-b6ca-6b2bbc58200c",
   "metadata": {},
   "source": [
    "#### Hierarchical Inheritance:"
   ]
  },
  {
   "cell_type": "code",
   "execution_count": 55,
   "id": "3ea845eb-a92e-4967-ac76-e3095ceec44a",
   "metadata": {},
   "outputs": [],
   "source": [
    "class Animal:\n",
    "    def eat(self):\n",
    "        return \"Animal is eating\""
   ]
  },
  {
   "cell_type": "code",
   "execution_count": 56,
   "id": "34a29432-e6f3-4b09-8603-5d0aa0c8a209",
   "metadata": {},
   "outputs": [],
   "source": [
    "class Cat(Animal):\n",
    "    def meow(self):\n",
    "        return \"Cat is meowing\"\n",
    "    "
   ]
  },
  {
   "cell_type": "code",
   "execution_count": 57,
   "id": "6222aab3-ace8-47a5-84ce-3e1091cc2b98",
   "metadata": {},
   "outputs": [],
   "source": [
    "class Dog(Animal):\n",
    "    def bark(self):\n",
    "        return \"Dog is barking\""
   ]
  },
  {
   "cell_type": "code",
   "execution_count": 58,
   "id": "77bfea62-32f0-4549-abf6-497432da7dd4",
   "metadata": {},
   "outputs": [],
   "source": [
    "dog = Dog()"
   ]
  },
  {
   "cell_type": "code",
   "execution_count": 59,
   "id": "5a68db41-7504-4e22-8a79-1303591c53ff",
   "metadata": {},
   "outputs": [
    {
     "data": {
      "text/plain": [
       "'Dog is barking'"
      ]
     },
     "execution_count": 59,
     "metadata": {},
     "output_type": "execute_result"
    }
   ],
   "source": [
    "dog.bark()"
   ]
  },
  {
   "cell_type": "code",
   "execution_count": 60,
   "id": "d694219c-daea-4cb1-b137-e6ba2bfdb186",
   "metadata": {},
   "outputs": [
    {
     "data": {
      "text/plain": [
       "'Animal is eating'"
      ]
     },
     "execution_count": 60,
     "metadata": {},
     "output_type": "execute_result"
    }
   ],
   "source": [
    "dog.eat()"
   ]
  },
  {
   "cell_type": "code",
   "execution_count": 61,
   "id": "770ccad7-32fb-43b7-b957-799e3fde0987",
   "metadata": {},
   "outputs": [],
   "source": [
    "cat = Cat()"
   ]
  },
  {
   "cell_type": "code",
   "execution_count": 62,
   "id": "061bccd9-1df6-4eec-8144-6cbfc3e9a1c9",
   "metadata": {},
   "outputs": [
    {
     "data": {
      "text/plain": [
       "'Animal is eating'"
      ]
     },
     "execution_count": 62,
     "metadata": {},
     "output_type": "execute_result"
    }
   ],
   "source": [
    "cat.eat()"
   ]
  },
  {
   "cell_type": "code",
   "execution_count": 63,
   "id": "68a755d9-be22-44d7-938a-b5626c7bf95b",
   "metadata": {},
   "outputs": [
    {
     "data": {
      "text/plain": [
       "'Cat is meowing'"
      ]
     },
     "execution_count": 63,
     "metadata": {},
     "output_type": "execute_result"
    }
   ],
   "source": [
    "cat.meow()"
   ]
  },
  {
   "cell_type": "markdown",
   "id": "6ffcd947-90d4-418f-bf8d-a2b4deeafbd1",
   "metadata": {},
   "source": [
    "#### Hybrid Inheritance:"
   ]
  },
  {
   "cell_type": "code",
   "execution_count": 64,
   "id": "e9435666-e8d9-4a0a-93e0-2f48782e4bd1",
   "metadata": {},
   "outputs": [],
   "source": [
    "class A:\n",
    "    def meth1(self):\n",
    "        return \"method 1\"\n",
    "    "
   ]
  },
  {
   "cell_type": "code",
   "execution_count": 66,
   "id": "4037462e-3519-4915-be40-d5dae2146d93",
   "metadata": {},
   "outputs": [],
   "source": [
    "class B(A):\n",
    "    def meth2(self):\n",
    "        return \"method 2\"\n",
    "    "
   ]
  },
  {
   "cell_type": "code",
   "execution_count": 68,
   "id": "a7168e91-6ca8-49d1-aaca-a2402d93d1b5",
   "metadata": {},
   "outputs": [],
   "source": [
    "class C(A):\n",
    "    def meth3(self):\n",
    "        return \"method 3\"\n",
    "    "
   ]
  },
  {
   "cell_type": "code",
   "execution_count": 69,
   "id": "fbb7cfd9-d139-485e-815e-a2a9fc9e08d5",
   "metadata": {},
   "outputs": [],
   "source": [
    "class D(B,C):\n",
    "    pass\n",
    "    "
   ]
  },
  {
   "cell_type": "code",
   "execution_count": 70,
   "id": "ad83efe2-c88c-4215-b397-9be06e2f424f",
   "metadata": {},
   "outputs": [],
   "source": [
    "obj1 = D()"
   ]
  },
  {
   "cell_type": "code",
   "execution_count": 71,
   "id": "44c1ec37-b3d4-4075-b032-d196485b8246",
   "metadata": {},
   "outputs": [
    {
     "data": {
      "text/plain": [
       "'method 1'"
      ]
     },
     "execution_count": 71,
     "metadata": {},
     "output_type": "execute_result"
    }
   ],
   "source": [
    "obj1.meth1()"
   ]
  },
  {
   "cell_type": "code",
   "execution_count": 72,
   "id": "0bfc5fa6-507a-4f5c-b638-6a3b0398950c",
   "metadata": {},
   "outputs": [
    {
     "data": {
      "text/plain": [
       "'method 2'"
      ]
     },
     "execution_count": 72,
     "metadata": {},
     "output_type": "execute_result"
    }
   ],
   "source": [
    "obj1.meth2()"
   ]
  },
  {
   "cell_type": "code",
   "execution_count": 73,
   "id": "c010dc60-ebb6-470c-be0a-449d8bc281bb",
   "metadata": {},
   "outputs": [
    {
     "data": {
      "text/plain": [
       "'method 3'"
      ]
     },
     "execution_count": 73,
     "metadata": {},
     "output_type": "execute_result"
    }
   ],
   "source": [
    "obj1.meth3()"
   ]
  },
  {
   "cell_type": "code",
   "execution_count": null,
   "id": "a72b1e9a-4a2f-4c3c-8f16-0cf3fe0cb5fe",
   "metadata": {},
   "outputs": [],
   "source": []
  }
 ],
 "metadata": {
  "kernelspec": {
   "display_name": "Python 3 (ipykernel)",
   "language": "python",
   "name": "python3"
  },
  "language_info": {
   "codemirror_mode": {
    "name": "ipython",
    "version": 3
   },
   "file_extension": ".py",
   "mimetype": "text/x-python",
   "name": "python",
   "nbconvert_exporter": "python",
   "pygments_lexer": "ipython3",
   "version": "3.10.8"
  }
 },
 "nbformat": 4,
 "nbformat_minor": 5
}
